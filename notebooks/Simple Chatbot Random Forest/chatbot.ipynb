{
 "cells": [
  {
   "cell_type": "code",
   "execution_count": 1,
   "metadata": {},
   "outputs": [],
   "source": [
    "import json     # JSON Encode-Decode library\n",
    "import numpy as np     # Scientific computational library\n",
    "from sklearn.feature_extraction.text import TfidfVectorizer     # WordVecotr with TF-IDF  \n",
    "from sklearn.ensemble import RandomForestClassifier     # Classifier"
   ]
  },
  {
   "cell_type": "code",
   "execution_count": 2,
   "metadata": {
    "scrolled": true
   },
   "outputs": [],
   "source": [
    "# Reading chat data\n",
    "with open(\"chatdata.json\", 'r') as f:\n",
    "    chat_data = json.load(f)\n",
    "    f.close()"
   ]
  },
  {
   "cell_type": "code",
   "execution_count": 3,
   "metadata": {
    "scrolled": false
   },
   "outputs": [],
   "source": [
    "# Training Data\n",
    "training_dict = {}\n",
    "\n",
    "# Appeding chat data in Training dicotionary\n",
    "for intent, question_list in chat_data.items():\n",
    "    for question in question_list:\n",
    "        training_dict[question] = intent"
   ]
  },
  {
   "cell_type": "code",
   "execution_count": 4,
   "metadata": {},
   "outputs": [
    {
     "output_type": "execute_result",
     "data": {
      "text/plain": "(array(['hi', 'hello', 'hey', 'hola', 'bye', 'goodbye', 'good bye', 'sad',\n        'not good', 'i am sad', 'not happy', 'i am happy', 'i am good',\n        'great', 'good', 'how are you?', 'whats up', 'wassup',\n        'what is your name', 'Hey who are you', 'tell me your name',\n        'may i know your name'], dtype='<U20'),\n array(['greet', 'greet', 'greet', 'greet', 'goodbye', 'goodbye',\n        'goodbye', 'sad', 'sad', 'sad', 'sad', 'hppay', 'hppay', 'hppay',\n        'hppay', 'askbot', 'askbot', 'askbot', 'botname', 'botname',\n        'botname', 'botname'], dtype='<U7'))"
     },
     "metadata": {},
     "execution_count": 4
    }
   ],
   "source": [
    "# Separating Features i.e questions and Labels i.e intents\n",
    "feature = np.array(list(training_dict.keys()))\n",
    "labels = np.array(list(training_dict.values()))\n",
    "feature, labels"
   ]
  },
  {
   "cell_type": "code",
   "execution_count": 5,
   "metadata": {
    "scrolled": false
   },
   "outputs": [],
   "source": [
    "# Converting text to WordVector\n",
    "tf_vec = TfidfVectorizer().fit(feature)\n",
    "X = tf_vec.transform(feature).toarray()\n",
    "\n",
    "# Reshaping labels to fit data\n",
    "y = labels.reshape(-1,1)"
   ]
  },
  {
   "cell_type": "code",
   "execution_count": 6,
   "metadata": {},
   "outputs": [
    {
     "output_type": "execute_result",
     "data": {
      "text/plain": "RandomForestClassifier(bootstrap=True, class_weight=None, criterion='gini',\n            max_depth=None, max_features='auto', max_leaf_nodes=None,\n            min_impurity_decrease=0.0, min_impurity_split=None,\n            min_samples_leaf=1, min_samples_split=2,\n            min_weight_fraction_leaf=0.0, n_estimators=200, n_jobs=None,\n            oob_score=False, random_state=None, verbose=0,\n            warm_start=False)"
     },
     "metadata": {},
     "execution_count": 6
    }
   ],
   "source": [
    "# Fitting model\n",
    "rnn = RandomForestClassifier(n_estimators=200)\n",
    "rnn.fit(X, y)"
   ]
  },
  {
   "cell_type": "code",
   "execution_count": 7,
   "metadata": {},
   "outputs": [],
   "source": [
    "# Reading Resposne \n",
    "with open(\"response.json\") as f:\n",
    "    response_dict = json.load(f)\n",
    "    f.close()\n",
    "\n",
    "# Creating response\n",
    "def botanswer(q):\n",
    "    process_text = tf_vec.transform([q]).toarray()\n",
    "    prob = rnn.predict_proba(process_text)[0]\n",
    "    max_ = np.argmax(prob)\n",
    "    if prob[max_] < 0.6:\n",
    "        return \"Sorry I am not getting you...!\"\n",
    "    else:\n",
    "        return response_dict[rnn.classes_[max_]]"
   ]
  },
  {
   "cell_type": "code",
   "execution_count": 9,
   "metadata": {},
   "outputs": [
    {
     "output_type": "stream",
     "name": "stdout",
     "text": "Bot>> Hello there...!\nBot>> I am fine, How are you?\nBot>> That's great\nBot>> Bye see you later\n"
    }
   ],
   "source": [
    "# Chat with bot\n",
    "while True:\n",
    "    user = input(\"User>> \")\n",
    "    if user == \"quit\":\n",
    "        break\n",
    "    print(\"Bot>> {}\".format(botanswer(user)))"
   ]
  }
 ],
 "metadata": {
  "kernelspec": {
   "display_name": "Python 3.6.5 64-bit",
   "language": "python",
   "name": "python36564bit6d1222a76f7c4433b41c15ce63e43c1c"
  },
  "language_info": {
   "codemirror_mode": {
    "name": "ipython",
    "version": 3
   },
   "file_extension": ".py",
   "mimetype": "text/x-python",
   "name": "python",
   "nbconvert_exporter": "python",
   "pygments_lexer": "ipython3",
   "version": "3.6.5-final"
  }
 },
 "nbformat": 4,
 "nbformat_minor": 2
}