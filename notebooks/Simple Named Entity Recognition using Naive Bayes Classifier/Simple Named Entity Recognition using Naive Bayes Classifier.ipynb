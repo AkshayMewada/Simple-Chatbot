{
 "cells": [
  {
   "cell_type": "code",
   "execution_count": 1,
   "metadata": {},
   "outputs": [],
   "source": [
    "import yaml    # YAML Encode-Decode library\n",
    "import numpy as np    # Scientific computational library\n",
    "from sklearn.feature_extraction import DictVectorizer    # Dictorinary to Vector\n",
    "from nltk.tag import pos_tag    # Part of Speech tagger\n",
    "from sklearn.naive_bayes import BernoulliNB    # Classifier"
   ]
  },
  {
   "cell_type": "code",
   "execution_count": 2,
   "metadata": {},
   "outputs": [],
   "source": [
    "# Reading Entity Chat Data\n",
    "with open('ent.yaml', 'r') as f:\n",
    "    data =  yaml.load(f)"
   ]
  },
  {
   "cell_type": "code",
   "execution_count": 3,
   "metadata": {},
   "outputs": [],
   "source": [
    "# Features To Train\n",
    "def get_features(index, word, tokens):\n",
    "    prev_word = 'BOS'\n",
    "    next_word = 'EOS'\n",
    "    if len(tokens) > index+1:\n",
    "        next_word = tokens[index+1]\n",
    "    if index-1 > 0:\n",
    "        prev_word = tokens[index-1]\n",
    "    val, tag = pos_tag([word])[0]\n",
    "    prev_word, prev_tag = pos_tag([prev_word])[0]\n",
    "    next_word, next_tag = pos_tag([next_word])[0]\n",
    "    dic = {\n",
    "        \"word\": val,\n",
    "        \"postag\": tag,\n",
    "        \"nextword\": next_word,\n",
    "        \"nextwordtag\": next_tag,\n",
    "        \"previousword\": prev_word,\n",
    "        \"previoustag\": prev_tag,\n",
    "    }\n",
    "    return dic"
   ]
  },
  {
   "cell_type": "code",
   "execution_count": 4,
   "metadata": {
    "scrolled": false
   },
   "outputs": [],
   "source": [
    "train_data = []\n",
    "label = []\n",
    "\n",
    "# Separating Features i.e Feature Dictionary and Labels i.e Name of Entity\n",
    "for dic in data:\n",
    "    # Split sentence to tokens\n",
    "    token = dic['text'].split(' ')\n",
    "    for i, word in enumerate(token):\n",
    "        # Appending Labels if its found else appending default label \"O\".\n",
    "        if dic.__contains__('entity'):\n",
    "            for ent in dic['entity']:\n",
    "                pos = ent['pos']\n",
    "                k, v = list(ent.items())[1]\n",
    "                if pos == i:\n",
    "                    label.append(k)\n",
    "                    break\n",
    "            else:\n",
    "                label.append('O')\n",
    "        else:\n",
    "            label.append('O')\n",
    "        # Text to Features\n",
    "        train_data.append(get_features(i ,word, token))"
   ]
  },
  {
   "cell_type": "code",
   "execution_count": 5,
   "metadata": {},
   "outputs": [],
   "source": [
    "# Conveting Dictionary to Vector\n",
    "vec = DictVectorizer()\n",
    "feature = vec.fit_transform(train_data).toarray()"
   ]
  },
  {
   "cell_type": "code",
   "execution_count": 6,
   "metadata": {},
   "outputs": [
    {
     "output_type": "execute_result",
     "data": {
      "text/plain": "BernoulliNB(alpha=0.1, binarize=0.1, class_prior=None, fit_prior=True)"
     },
     "metadata": {},
     "execution_count": 6
    }
   ],
   "source": [
    "# Fitting Model\n",
    "bnb = BernoulliNB(alpha=0.1, binarize=0.1)\n",
    "bnb.fit(feature, label)"
   ]
  },
  {
   "cell_type": "code",
   "execution_count": 7,
   "metadata": {},
   "outputs": [],
   "source": [
    "# Get Entity Result\n",
    "def get_enitity(sentence):\n",
    "    new = []\n",
    "    tokens = sentence.split(\" \")\n",
    "    for i,val in enumerate(tokens):\n",
    "        new.append(get_features(i, val, tokens))\n",
    "   \n",
    "    pred = bnb.predict(vec.transform(new).toarray())\n",
    "    for i in np.where(pred!='O')[0]:\n",
    "        print(\"Entity: {}, Value: {}\".format(pred[i],sentence.split(\" \")[i]))"
   ]
  },
  {
   "cell_type": "code",
   "execution_count": 8,
   "metadata": {},
   "outputs": [
    {
     "output_type": "stream",
     "name": "stdout",
     "text": "hi\n-----------------------\ni am akshay\nEntity: name, Value: akshay\n-----------------------\nwhat is mul of 1 and 2\nEntity: name, Value: what\nEntity: number, Value: 1\nEntity: number, Value: 2\n-----------------------\n"
    }
   ],
   "source": [
    "user_text_list = [\n",
    "    \"hi\",\n",
    "    \"i am akshay\",\n",
    "    \"what is mul of 1 and 2\"\n",
    "]\n",
    "\n",
    "for text in user_text_list:\n",
    "    print(text)\n",
    "    get_enitity(text)\n",
    "    print(\"-----------------------\")"
   ]
  },
  {
   "cell_type": "code",
   "execution_count": null,
   "metadata": {},
   "outputs": [],
   "source": []
  },
  {
   "cell_type": "code",
   "execution_count": null,
   "metadata": {},
   "outputs": [],
   "source": []
  },
  {
   "cell_type": "code",
   "execution_count": null,
   "metadata": {},
   "outputs": [],
   "source": []
  }
 ],
 "metadata": {
  "kernelspec": {
   "display_name": "Python 3",
   "language": "python",
   "name": "python3"
  },
  "language_info": {
   "codemirror_mode": {
    "name": "ipython",
    "version": 3
   },
   "file_extension": ".py",
   "mimetype": "text/x-python",
   "name": "python",
   "nbconvert_exporter": "python",
   "pygments_lexer": "ipython3",
   "version": "3.6.5-final"
  }
 },
 "nbformat": 4,
 "nbformat_minor": 4
}